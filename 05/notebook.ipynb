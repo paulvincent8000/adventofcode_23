{
 "cells": [
  {
   "cell_type": "code",
   "execution_count": 1,
   "metadata": {},
   "outputs": [
    {
     "data": {
      "text/plain": [
       "['seeds: 79 14 55 13',\n",
       " '',\n",
       " 'seed-to-soil map:',\n",
       " '50 98 2',\n",
       " '52 50 48',\n",
       " '',\n",
       " 'soil-to-fertilizer map:',\n",
       " '0 15 37',\n",
       " '37 52 2',\n",
       " '39 0 15',\n",
       " '',\n",
       " 'fertilizer-to-water map:',\n",
       " '49 53 8',\n",
       " '0 11 42',\n",
       " '42 0 7',\n",
       " '57 7 4',\n",
       " '',\n",
       " 'water-to-light map:',\n",
       " '88 18 7',\n",
       " '18 25 70',\n",
       " '',\n",
       " 'light-to-temperature map:',\n",
       " '45 77 23',\n",
       " '81 45 19',\n",
       " '68 64 13',\n",
       " '',\n",
       " 'temperature-to-humidity map:',\n",
       " '0 69 1',\n",
       " '1 0 69',\n",
       " '',\n",
       " 'humidity-to-location map:',\n",
       " '60 56 37',\n",
       " '56 93 4']"
      ]
     },
     "execution_count": 1,
     "metadata": {},
     "output_type": "execute_result"
    }
   ],
   "source": [
    "import pandas as pd\n",
    "\n",
    "input_file = 'part 1 sample.csv'\n",
    "\n",
    "with open(input_file) as f:\n",
    "    values = [x.strip() for x in f.readlines()]\n",
    "\n",
    "values"
   ]
  },
  {
   "cell_type": "code",
   "execution_count": 91,
   "metadata": {},
   "outputs": [
    {
     "data": {
      "text/plain": [
       "10"
      ]
     },
     "execution_count": 91,
     "metadata": {},
     "output_type": "execute_result"
    }
   ],
   "source": [
    "class Map():\n",
    "    '''A map object'''\n",
    "    def __init__(self, map_definition : list) -> None:\n",
    "        # convert list to array of integers and build dataframe\n",
    "        map_list = []\n",
    "        for map_line in map_definition:\n",
    "            map_list.append([int(x) for x in map_line.split(' ')])\n",
    "        self.df = pd.DataFrame(data=map_list, columns=['DstSt','SrcSt','rng'])\n",
    "\n",
    "        # add calculated values\n",
    "        self.df['SrcEnd'] = self.df['SrcSt'] + self.df['rng']\n",
    "        self.df['DstEnd'] = self.df['DstSt'] + self.df['rng']\n",
    "        self.df['OffSet'] = self.df['DstSt'] - self.df['SrcSt']\n",
    "\n",
    "        # re-order columns for clarity\n",
    "        self.df = self.df.reindex(columns=['SrcSt','SrcEnd','DstSt','DstEnd','OffSet','rng'])\n",
    "        return None\n",
    "    \n",
    "    def get_destination(self,value:int) -> int:\n",
    "        '''Process mapping and supply destination value'''\n",
    "        offset = self.df[ (self.df.SrcSt <= value) & (self.df.SrcEnd > value)]\n",
    "        if len(offset) > 0:\n",
    "            return offset.loc[offset.index, 'OffSet'].iat[0] + value\n",
    "        else:\n",
    "            return value\n",
    "\n",
    "newmap = Map([\n",
    "'50 98 2',\n",
    "'52 50 48'\n",
    "])\n",
    "\n",
    "newmap.df\n",
    "newmap.get_destination(10)"
   ]
  },
  {
   "cell_type": "code",
   "execution_count": 93,
   "metadata": {},
   "outputs": [
    {
     "name": "stdout",
     "output_type": "stream",
     "text": [
      "0 0\n",
      "1 1\n",
      "48 48\n",
      "49 49\n",
      "50 52\n",
      "96 98\n",
      "97 99\n",
      "98 50\n",
      "99 51\n",
      "100 100\n"
     ]
    }
   ],
   "source": [
    "for x in '0 1 48 49 50 96 97 98 99 100'.split(' '):\n",
    "    print(x, newmap.get_destination(int(x)) )"
   ]
  }
 ],
 "metadata": {
  "kernelspec": {
   "display_name": "Python 3",
   "language": "python",
   "name": "python3"
  },
  "language_info": {
   "codemirror_mode": {
    "name": "ipython",
    "version": 3
   },
   "file_extension": ".py",
   "mimetype": "text/x-python",
   "name": "python",
   "nbconvert_exporter": "python",
   "pygments_lexer": "ipython3",
   "version": "3.12.0"
  }
 },
 "nbformat": 4,
 "nbformat_minor": 2
}
