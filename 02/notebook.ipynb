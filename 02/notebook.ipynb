{
 "cells": [
  {
   "cell_type": "code",
   "execution_count": 14,
   "metadata": {},
   "outputs": [
    {
     "data": {
      "text/plain": [
       "['Game 1: 3 blue, 4 red; 1 red, 2 green, 6 blue; 2 green',\n",
       " 'Game 2: 1 blue, 2 green; 3 green, 4 blue, 1 red; 1 green, 1 blue',\n",
       " 'Game 3: 8 green, 6 blue, 20 red; 5 blue, 4 red, 13 green; 5 green, 1 red',\n",
       " 'Game 4: 1 green, 3 red, 6 blue; 3 green, 6 red; 3 green, 15 blue, 14 red',\n",
       " 'Game 5: 6 red, 1 blue, 3 green; 2 blue, 1 red, 2 green']"
      ]
     },
     "execution_count": 14,
     "metadata": {},
     "output_type": "execute_result"
    }
   ],
   "source": [
    "path = '/Users/paulvincent/Library/CloudStorage/OneDrive-InterWorks,Inc/Python/adventofcode_23/02/'\n",
    "input_file = \"part 1 sample.csv\"\n",
    "#input_file = 'part 1 input.csv'\n",
    "\n",
    "def get_input(path,input_file):\n",
    "    # Get the input\n",
    "    with open(input_file) as f:\n",
    "        lines = f.readlines()\n",
    "    return [line.rstrip('\\n') for line in lines ]\n",
    "\n",
    "get_input(path,input_file)"
   ]
  },
  {
   "cell_type": "code",
   "execution_count": 32,
   "metadata": {},
   "outputs": [
    {
     "data": {
      "text/plain": [
       "(4,\n",
       " [' 1 green, 3 red, 6 blue', ' 3 green, 6 red', ' 3 green, 15 blue, 14 red'])"
      ]
     },
     "execution_count": 32,
     "metadata": {},
     "output_type": "execute_result"
    }
   ],
   "source": [
    "def parse_lines(line):\n",
    "    # split game name and game contents\n",
    "    game_parse = line.split(':')\n",
    "    # Extract game number\n",
    "    game_id = ''\n",
    "    for x in game_parse[0]:\n",
    "        if x.isdigit():\n",
    "            game_id += x\n",
    "    # Extract throws\n",
    "    throws = game_parse[1].split(';')\n",
    "    return int(game_id), throws\n",
    "\n",
    "parse_lines('Game 4: 1 green, 3 red, 6 blue; 3 green, 6 red; 3 green, 15 blue, 14 red')\n"
   ]
  },
  {
   "cell_type": "code",
   "execution_count": 76,
   "metadata": {},
   "outputs": [
    {
     "data": {
      "text/plain": [
       "([0, 0, 0], ['red', 'green', 'blue'])"
      ]
     },
     "execution_count": 76,
     "metadata": {},
     "output_type": "execute_result"
    }
   ],
   "source": [
    "def setup_scorecard(colours : list):\n",
    "    return [0 for x in colours], colours\n",
    "setup_scorecard(['red','green','blue'])"
   ]
  },
  {
   "cell_type": "code",
   "execution_count": 100,
   "metadata": {},
   "outputs": [
    {
     "data": {
      "text/plain": [
       "([13, 1, 6], ['red', 'green', 'blue'])"
      ]
     },
     "execution_count": 100,
     "metadata": {},
     "output_type": "execute_result"
    }
   ],
   "source": [
    "def score_throw(scorecard, throw):\n",
    "    # for each cube in the throw parse out the colour and quantity\n",
    "    for cube in throw.split(','):\n",
    "        x = cube.split(' ')\n",
    "        cube_colour = x[2]\n",
    "        cube_qty = int(x[1])\n",
    "        #print(cube_colour, cube_qty)\n",
    "        # test each cube to see what colour it is and how many are present\n",
    "        for x in enumerate(scorecard[1]):\n",
    "            search_colour = x[1]\n",
    "            score_position = x[0]\n",
    "            #print(f'Search for colour {search_colour}, to score at location {score_position}')\n",
    "            # update the score when a match is found\n",
    "            if cube_colour == search_colour:\n",
    "                scorecard[0][score_position] = cube_qty\n",
    "    return scorecard\n",
    "\n",
    "scorecard = setup_scorecard(['red','green','blue'])\n",
    "score_throw(scorecard, ' 1 green, 13 red, 6 blue')\n",
    "#scorecard[0][1] = 1\n"
   ]
  },
  {
   "cell_type": "code",
   "execution_count": 107,
   "metadata": {},
   "outputs": [
    {
     "data": {
      "text/plain": [
       "([23, 7, 21], ['red', 'green', 'blue'])"
      ]
     },
     "execution_count": 107,
     "metadata": {},
     "output_type": "execute_result"
    }
   ],
   "source": [
    "def score_game(cube_colours,game):\n",
    "    game_score = setup_scorecard(cube_colours)\n",
    "    for throw in game:\n",
    "        scorecard = setup_scorecard(cube_colours)\n",
    "        score_throw(scorecard, throw)\n",
    "        # update cummulative score\n",
    "        for i in range(len(game_score[0])):\n",
    "            game_score[0][i] += scorecard[0][i]\n",
    "        #print(f'Throw: {throw} \\t*** scores: {scorecard} \\t*** giving cummulative score { game_score}')\n",
    "    return game_score\n",
    "\n",
    "cube_colours = ['red','green','blue']   \n",
    "score_game( cube_colours, [' 1 green, 3 red, 6 blue', ' 3 green, 6 red', ' 3 green, 15 blue, 14 red'])"
   ]
  },
  {
   "cell_type": "code",
   "execution_count": 137,
   "metadata": {},
   "outputs": [
    {
     "data": {
      "text/plain": [
       "False"
      ]
     },
     "execution_count": 137,
     "metadata": {},
     "output_type": "execute_result"
    }
   ],
   "source": [
    "def test_possible_game(max_score,scorecard):\n",
    "    for i in range(len(scorecard[0])):\n",
    "        score = scorecard[0][i]\n",
    "        max = max_score[0][i]\n",
    "        #print(i, score, max, score > max)\n",
    "        if score > max:\n",
    "            return False\n",
    "    return True\n",
    "\n",
    "max_score = ([12, 13, 14], ['red', 'green', 'blue'])\n",
    "scorecard = ([13, 1, 6], ['red', 'green', 'blue'])\n",
    "\n",
    "test_possible_game(max_score,scorecard)"
   ]
  },
  {
   "cell_type": "code",
   "execution_count": 145,
   "metadata": {},
   "outputs": [
    {
     "name": "stdout",
     "output_type": "stream",
     "text": [
      "The result is 224.\n"
     ]
    }
   ],
   "source": [
    "# Get the input\n",
    "path = '/Users/paulvincent/Library/CloudStorage/OneDrive-InterWorks,Inc/Python/adventofcode_23/02/'\n",
    "#input_file = \"part 1 sample.csv\"\n",
    "input_file = 'part 1 input.csv'\n",
    "cube_colours = ['red','green','blue']   \n",
    "max_score = ([12, 13, 14], ['red', 'green', 'blue'])\n",
    "\n",
    "lines = get_input(path,input_file)\n",
    "\n",
    "# Set the sum of game id to zero\n",
    "game_sum = 0\n",
    "\n",
    "# Loop through each game and calculate a score\n",
    "for line in lines:\n",
    "    game_id, throws = parse_lines(line)\n",
    "    score = score_game(cube_colours,throws)\n",
    "    \n",
    "    if test_possible_game(max_score,score):\n",
    "        game_sum += int(game_id)\n",
    "\n",
    "    #print(game_id, throws, score, game_sum)\n",
    "\n",
    "# Give the result\n",
    "print(f'The result is {game_sum}.')"
   ]
  },
  {
   "cell_type": "code",
   "execution_count": 156,
   "metadata": {},
   "outputs": [
    {
     "name": "stdout",
     "output_type": "stream",
     "text": [
      "1 False 0\n",
      "2 True 2\n",
      "3 True 5\n",
      "4 False 5\n",
      "5 True 10\n",
      "6 False 10\n",
      "7 True 17\n",
      "8 False 17\n",
      "9 True 26\n",
      "10 False 26\n",
      "11 False 26\n",
      "12 True 38\n",
      "13 False 38\n",
      "14 False 38\n",
      "15 True 53\n",
      "16 False 53\n",
      "17 False 53\n",
      "18 False 53\n",
      "19 False 53\n",
      "20 False 53\n",
      "21 False 53\n",
      "22 False 53\n",
      "23 True 76\n",
      "24 False 76\n",
      "25 False 76\n",
      "26 False 76\n",
      "27 True 103\n",
      "28 True 131\n",
      "29 False 131\n",
      "30 False 131\n",
      "31 False 131\n",
      "32 False 131\n",
      "33 False 131\n",
      "34 True 165\n",
      "35 True 200\n",
      "36 True 236\n",
      "37 True 273\n",
      "38 True 311\n",
      "39 True 350\n",
      "40 False 350\n",
      "41 False 350\n",
      "42 True 392\n",
      "43 False 392\n",
      "44 True 436\n",
      "45 False 436\n",
      "46 True 482\n",
      "47 True 529\n",
      "48 True 577\n",
      "49 False 577\n",
      "50 False 577\n",
      "51 False 577\n",
      "52 True 629\n",
      "53 False 629\n",
      "54 False 629\n",
      "55 True 684\n",
      "56 True 740\n",
      "57 True 797\n",
      "58 False 797\n",
      "59 True 856\n",
      "60 False 856\n",
      "61 False 856\n",
      "62 False 856\n",
      "63 True 919\n",
      "64 True 983\n",
      "65 False 983\n",
      "66 False 983\n",
      "67 True 1050\n",
      "68 True 1118\n",
      "69 False 1118\n",
      "70 True 1188\n",
      "71 False 1188\n",
      "72 True 1260\n",
      "73 True 1333\n",
      "74 True 1407\n",
      "75 False 1407\n",
      "76 True 1483\n",
      "77 False 1483\n",
      "78 True 1561\n",
      "79 False 1561\n",
      "80 True 1641\n",
      "81 True 1722\n",
      "82 True 1804\n",
      "83 True 1887\n",
      "84 False 1887\n",
      "85 False 1887\n",
      "86 True 1973\n",
      "87 True 2060\n",
      "88 True 2148\n",
      "89 True 2237\n",
      "90 True 2327\n",
      "91 False 2327\n",
      "92 False 2327\n",
      "93 True 2420\n",
      "94 False 2420\n",
      "95 False 2420\n",
      "96 False 2420\n",
      "97 True 2517\n",
      "98 False 2517\n",
      "99 True 2616\n",
      "100 True 2716\n"
     ]
    }
   ],
   "source": [
    "# Get the input\n",
    "path = '/Users/paulvincent/Library/CloudStorage/OneDrive-InterWorks,Inc/Python/adventofcode_23/02/'\n",
    "#input_file = \"part 1 sample.csv\"\n",
    "input_file = 'part 1 input.csv'\n",
    "cube_colours = ['red','green','blue']   \n",
    "max_score = ([12, 13, 14], ['red', 'green', 'blue'])\n",
    "\n",
    "lines = get_input(path,input_file)\n",
    "\n",
    "# Set the sum of game id to zero\n",
    "game_sum = 0\n",
    "\n",
    "# Loop through each game and calculate a score\n",
    "for line in lines:\n",
    "    game_id, throws = parse_lines(line)\n",
    "\n",
    "    valid_game = True\n",
    "    for throw in throws:\n",
    "        throw_scorecard = setup_scorecard(cube_colours)\n",
    "        throw_score = score_throw(throw_scorecard, throw)\n",
    "        if not test_possible_game(max_score,throw_score):\n",
    "            valid_game = False\n",
    "    \n",
    "    if valid_game:\n",
    "        game_sum += int(game_id)\n",
    "    \n",
    "    print(game_id, valid_game, game_sum)\n",
    "    \n"
   ]
  },
  {
   "cell_type": "code",
   "execution_count": 46,
   "metadata": {},
   "outputs": [
    {
     "name": "stdout",
     "output_type": "stream",
     "text": [
      "2286\n"
     ]
    }
   ],
   "source": [
    "path = '/Users/paulvincent/Library/CloudStorage/OneDrive-InterWorks,Inc/Python/adventofcode_23/02/'\n",
    "input_file = \"part 1 sample.csv\"\n",
    "#input_file = 'part 1 input.csv'\n",
    "\n",
    "\n",
    "with open(input_file) as f:\n",
    "    lines = [x.strip() for x in f.readlines()]\n",
    "\n",
    "result = 0\n",
    "\n",
    "for game in [line.split(': ')[1] for line in lines]:\n",
    "    #print(f'game: {game}')\n",
    "\n",
    "    count = {\"red\": 0, \"green\": 0, \"blue\": 0}\n",
    "\n",
    "    for round in game.split('; '):\n",
    "        #print(f'round: {round}')\n",
    "        for draw in round.split(\", \"):\n",
    "            n, colour = draw.split(' ')\n",
    "\n",
    "            if int(n) > count[colour]:\n",
    "                count[colour] = int(n)\n",
    "\n",
    "    result += count[\"red\"] * count[\"green\"] * count[\"blue\"]\n",
    "\n",
    "print(result)\n",
    "            \n",
    "\n",
    "        \n",
    "\n"
   ]
  },
  {
   "cell_type": "code",
   "execution_count": 55,
   "metadata": {},
   "outputs": [
    {
     "data": {
      "text/plain": [
       "['8 green, 6 blue, 20 red', '5 blue, 4 red, 13 green', '5 green, 1 red']"
      ]
     },
     "execution_count": 55,
     "metadata": {},
     "output_type": "execute_result"
    }
   ],
   "source": [
    "# Parse a string\n",
    "'8 green, 6 blue, 20 red; 5 blue, 4 red, 13 green; 5 green, 1 red'.split('; ')"
   ]
  },
  {
   "cell_type": "code",
   "execution_count": 56,
   "metadata": {},
   "outputs": [
    {
     "data": {
      "text/plain": [
       "['8 green, 6 blue, 20 red', '5 blue, 4 red, 13 green', '5 green, 1 red']"
      ]
     },
     "execution_count": 56,
     "metadata": {},
     "output_type": "execute_result"
    }
   ],
   "source": [
    "[x for x in '8 green, 6 blue, 20 red; 5 blue, 4 red, 13 green; 5 green, 1 red'.split('; ')]"
   ]
  },
  {
   "cell_type": "code",
   "execution_count": 57,
   "metadata": {},
   "outputs": [
    {
     "data": {
      "text/plain": [
       "[['8 green', '6 blue', '20 red'],\n",
       " ['5 blue', '4 red', '13 green'],\n",
       " ['5 green', '1 red']]"
      ]
     },
     "execution_count": 57,
     "metadata": {},
     "output_type": "execute_result"
    }
   ],
   "source": [
    "[x.split(', ') for x in '8 green, 6 blue, 20 red; 5 blue, 4 red, 13 green; 5 green, 1 red'.split('; ')]"
   ]
  },
  {
   "cell_type": "code",
   "execution_count": 58,
   "metadata": {},
   "outputs": [
    {
     "name": "stdout",
     "output_type": "stream",
     "text": [
      "['8 green', '6 blue', '20 red']\n",
      "['5 blue', '4 red', '13 green']\n",
      "['5 green', '1 red']\n"
     ]
    }
   ],
   "source": [
    "for p in [x.split(', ') for x in '8 green, 6 blue, 20 red; 5 blue, 4 red, 13 green; 5 green, 1 red'.split('; ')]:\n",
    "    print(p)"
   ]
  },
  {
   "cell_type": "code",
   "execution_count": 64,
   "metadata": {},
   "outputs": [
    {
     "name": "stdout",
     "output_type": "stream",
     "text": [
      "8 green 8 green\n",
      "6 blue 6 blue\n",
      "20 red 20 red\n"
     ]
    }
   ],
   "source": [
    "for x in ['8 green', '6 blue', '20 red']:\n",
    "    n, colour = x.split(' ')\n",
    "    print(x, n, colour)\n",
    "  "
   ]
  },
  {
   "cell_type": "markdown",
   "metadata": {},
   "source": [
    "# Explore components of this solution"
   ]
  },
  {
   "cell_type": "code",
   "execution_count": 6,
   "metadata": {},
   "outputs": [
    {
     "data": {
      "text/plain": [
       "['Game 1: 3 blue, 4 red; 1 red, 2 green, 6 blue; 2 green \\n',\n",
       " 'Game 2: 1 blue, 2 green; 3 green, 4 blue, 1 red; 1 green, 1 blue\\n',\n",
       " 'Game 3: 8 green, 6 blue, 20 red; 5 blue, 4 red, 13 green; 5 green, 1 red\\n',\n",
       " 'Game 4: 1 green, 3 red, 6 blue; 3 green, 6 red; 3 green, 15 blue, 14 red\\n',\n",
       " 'Game 5: 6 red, 1 blue, 3 green; 2 blue, 1 red, 2 green']"
      ]
     },
     "execution_count": 6,
     "metadata": {},
     "output_type": "execute_result"
    }
   ],
   "source": [
    "input_file = \"part 1 sample.csv\"\n",
    "with open(input_file) as f:\n",
    "    lines = f.readlines()\n",
    "\n",
    "lines"
   ]
  },
  {
   "cell_type": "markdown",
   "metadata": {},
   "source": [
    "Read each item in the input list and strip out spaces and line ends"
   ]
  },
  {
   "cell_type": "code",
   "execution_count": 7,
   "metadata": {},
   "outputs": [
    {
     "data": {
      "text/plain": [
       "['Game 1: 3 blue, 4 red; 1 red, 2 green, 6 blue; 2 green',\n",
       " 'Game 2: 1 blue, 2 green; 3 green, 4 blue, 1 red; 1 green, 1 blue',\n",
       " 'Game 3: 8 green, 6 blue, 20 red; 5 blue, 4 red, 13 green; 5 green, 1 red',\n",
       " 'Game 4: 1 green, 3 red, 6 blue; 3 green, 6 red; 3 green, 15 blue, 14 red',\n",
       " 'Game 5: 6 red, 1 blue, 3 green; 2 blue, 1 red, 2 green']"
      ]
     },
     "execution_count": 7,
     "metadata": {},
     "output_type": "execute_result"
    }
   ],
   "source": [
    "input_file = \"part 1 sample.csv\"\n",
    "with open(input_file) as f:\n",
    "    lines = [x.strip() for x in f.readlines()]\n",
    "\n",
    "lines"
   ]
  },
  {
   "cell_type": "code",
   "execution_count": null,
   "metadata": {},
   "outputs": [],
   "source": []
  }
 ],
 "metadata": {
  "kernelspec": {
   "display_name": "Python 3",
   "language": "python",
   "name": "python3"
  },
  "language_info": {
   "codemirror_mode": {
    "name": "ipython",
    "version": 3
   },
   "file_extension": ".py",
   "mimetype": "text/x-python",
   "name": "python",
   "nbconvert_exporter": "python",
   "pygments_lexer": "ipython3",
   "version": "3.11.5"
  }
 },
 "nbformat": 4,
 "nbformat_minor": 2
}
